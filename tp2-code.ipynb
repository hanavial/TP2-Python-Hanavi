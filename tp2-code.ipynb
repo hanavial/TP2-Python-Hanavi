{
 "cells": [
  {
   "cell_type": "code",
   "execution_count": 24,
   "metadata": {},
   "outputs": [],
   "source": [
    "import pandas as pd\n",
    "\n",
    "from sklearn.preprocessing import LabelEncoder\n",
    "from sklearn.model_selection import train_test_split\n",
    "from sklearn.compose import ColumnTransformer\n",
    "from sklearn.pipeline import Pipeline\n",
    "from jcopml.pipeline import num_pipe, cat_pipe"
   ]
  },
  {
   "cell_type": "code",
   "execution_count": 25,
   "metadata": {},
   "outputs": [
    {
     "data": {
      "text/html": [
       "<div>\n",
       "<style scoped>\n",
       "    .dataframe tbody tr th:only-of-type {\n",
       "        vertical-align: middle;\n",
       "    }\n",
       "\n",
       "    .dataframe tbody tr th {\n",
       "        vertical-align: top;\n",
       "    }\n",
       "\n",
       "    .dataframe thead th {\n",
       "        text-align: right;\n",
       "    }\n",
       "</style>\n",
       "<table border=\"1\" class=\"dataframe\">\n",
       "  <thead>\n",
       "    <tr style=\"text-align: right;\">\n",
       "      <th></th>\n",
       "      <th>Jenis Kelamin</th>\n",
       "      <th>Umur Karyawan</th>\n",
       "      <th>Gaji</th>\n",
       "      <th>Status</th>\n",
       "      <th>Transportasi</th>\n",
       "    </tr>\n",
       "  </thead>\n",
       "  <tbody>\n",
       "    <tr>\n",
       "      <th>0</th>\n",
       "      <td>Laki-Laki</td>\n",
       "      <td>20</td>\n",
       "      <td>8000000</td>\n",
       "      <td>Single</td>\n",
       "      <td>Kendaraan pribadi</td>\n",
       "    </tr>\n",
       "    <tr>\n",
       "      <th>1</th>\n",
       "      <td>Laki-Laki</td>\n",
       "      <td>35</td>\n",
       "      <td>14000000</td>\n",
       "      <td>Single</td>\n",
       "      <td>Kendaraan umum</td>\n",
       "    </tr>\n",
       "    <tr>\n",
       "      <th>2</th>\n",
       "      <td>Perempuan</td>\n",
       "      <td>26</td>\n",
       "      <td>10000000</td>\n",
       "      <td>Single</td>\n",
       "      <td>Kendaraan umum</td>\n",
       "    </tr>\n",
       "    <tr>\n",
       "      <th>3</th>\n",
       "      <td>Perempuan</td>\n",
       "      <td>27</td>\n",
       "      <td>12000000</td>\n",
       "      <td>Menikah</td>\n",
       "      <td>Kendaraan pribadi</td>\n",
       "    </tr>\n",
       "    <tr>\n",
       "      <th>4</th>\n",
       "      <td>Laki-Laki</td>\n",
       "      <td>21</td>\n",
       "      <td>9000000</td>\n",
       "      <td>Single</td>\n",
       "      <td>Kendaraan pribadi</td>\n",
       "    </tr>\n",
       "    <tr>\n",
       "      <th>5</th>\n",
       "      <td>Laki-Laki</td>\n",
       "      <td>22</td>\n",
       "      <td>11000000</td>\n",
       "      <td>Single</td>\n",
       "      <td>Kendaraan pribadi</td>\n",
       "    </tr>\n",
       "    <tr>\n",
       "      <th>6</th>\n",
       "      <td>Perempuan</td>\n",
       "      <td>32</td>\n",
       "      <td>15000000</td>\n",
       "      <td>Menikah</td>\n",
       "      <td>Kendaraan umum</td>\n",
       "    </tr>\n",
       "    <tr>\n",
       "      <th>7</th>\n",
       "      <td>Perempuan</td>\n",
       "      <td>26</td>\n",
       "      <td>8000000</td>\n",
       "      <td>Menikah</td>\n",
       "      <td>Kendaraan umum</td>\n",
       "    </tr>\n",
       "    <tr>\n",
       "      <th>8</th>\n",
       "      <td>Laki-Laki</td>\n",
       "      <td>25</td>\n",
       "      <td>9000000</td>\n",
       "      <td>Single</td>\n",
       "      <td>Kendaraan umum</td>\n",
       "    </tr>\n",
       "    <tr>\n",
       "      <th>9</th>\n",
       "      <td>Perempuan</td>\n",
       "      <td>20</td>\n",
       "      <td>10000000</td>\n",
       "      <td>Single</td>\n",
       "      <td>Kendaraan pribadi</td>\n",
       "    </tr>\n",
       "  </tbody>\n",
       "</table>\n",
       "</div>"
      ],
      "text/plain": [
       "  Jenis Kelamin  Umur Karyawan      Gaji   Status       Transportasi\n",
       "0     Laki-Laki             20   8000000   Single  Kendaraan pribadi\n",
       "1     Laki-Laki             35  14000000   Single     Kendaraan umum\n",
       "2     Perempuan             26  10000000   Single     Kendaraan umum\n",
       "3     Perempuan             27  12000000  Menikah  Kendaraan pribadi\n",
       "4     Laki-Laki             21   9000000   Single  Kendaraan pribadi\n",
       "5     Laki-Laki             22  11000000   Single  Kendaraan pribadi\n",
       "6     Perempuan             32  15000000  Menikah     Kendaraan umum\n",
       "7     Perempuan             26   8000000  Menikah     Kendaraan umum\n",
       "8     Laki-Laki             25   9000000   Single     Kendaraan umum\n",
       "9     Perempuan             20  10000000   Single  Kendaraan pribadi"
      ]
     },
     "execution_count": 25,
     "metadata": {},
     "output_type": "execute_result"
    }
   ],
   "source": [
    "data = pd.read_csv('data.csv')\n",
    "data"
   ]
  },
  {
   "cell_type": "code",
   "execution_count": 26,
   "metadata": {},
   "outputs": [
    {
     "data": {
      "text/html": [
       "<div>\n",
       "<style scoped>\n",
       "    .dataframe tbody tr th:only-of-type {\n",
       "        vertical-align: middle;\n",
       "    }\n",
       "\n",
       "    .dataframe tbody tr th {\n",
       "        vertical-align: top;\n",
       "    }\n",
       "\n",
       "    .dataframe thead th {\n",
       "        text-align: right;\n",
       "    }\n",
       "</style>\n",
       "<table border=\"1\" class=\"dataframe\">\n",
       "  <thead>\n",
       "    <tr style=\"text-align: right;\">\n",
       "      <th></th>\n",
       "      <th>Jenis Kelamin</th>\n",
       "      <th>Umur Karyawan</th>\n",
       "      <th>Gaji</th>\n",
       "      <th>Status</th>\n",
       "      <th>Transportasi</th>\n",
       "    </tr>\n",
       "  </thead>\n",
       "  <tbody>\n",
       "    <tr>\n",
       "      <th>0</th>\n",
       "      <td>Laki-Laki</td>\n",
       "      <td>20</td>\n",
       "      <td>8000000</td>\n",
       "      <td>Single</td>\n",
       "      <td>0</td>\n",
       "    </tr>\n",
       "    <tr>\n",
       "      <th>1</th>\n",
       "      <td>Laki-Laki</td>\n",
       "      <td>35</td>\n",
       "      <td>14000000</td>\n",
       "      <td>Single</td>\n",
       "      <td>1</td>\n",
       "    </tr>\n",
       "    <tr>\n",
       "      <th>2</th>\n",
       "      <td>Perempuan</td>\n",
       "      <td>26</td>\n",
       "      <td>10000000</td>\n",
       "      <td>Single</td>\n",
       "      <td>1</td>\n",
       "    </tr>\n",
       "    <tr>\n",
       "      <th>3</th>\n",
       "      <td>Perempuan</td>\n",
       "      <td>27</td>\n",
       "      <td>12000000</td>\n",
       "      <td>Menikah</td>\n",
       "      <td>0</td>\n",
       "    </tr>\n",
       "    <tr>\n",
       "      <th>4</th>\n",
       "      <td>Laki-Laki</td>\n",
       "      <td>21</td>\n",
       "      <td>9000000</td>\n",
       "      <td>Single</td>\n",
       "      <td>0</td>\n",
       "    </tr>\n",
       "    <tr>\n",
       "      <th>5</th>\n",
       "      <td>Laki-Laki</td>\n",
       "      <td>22</td>\n",
       "      <td>11000000</td>\n",
       "      <td>Single</td>\n",
       "      <td>0</td>\n",
       "    </tr>\n",
       "    <tr>\n",
       "      <th>6</th>\n",
       "      <td>Perempuan</td>\n",
       "      <td>32</td>\n",
       "      <td>15000000</td>\n",
       "      <td>Menikah</td>\n",
       "      <td>1</td>\n",
       "    </tr>\n",
       "    <tr>\n",
       "      <th>7</th>\n",
       "      <td>Perempuan</td>\n",
       "      <td>26</td>\n",
       "      <td>8000000</td>\n",
       "      <td>Menikah</td>\n",
       "      <td>1</td>\n",
       "    </tr>\n",
       "    <tr>\n",
       "      <th>8</th>\n",
       "      <td>Laki-Laki</td>\n",
       "      <td>25</td>\n",
       "      <td>9000000</td>\n",
       "      <td>Single</td>\n",
       "      <td>1</td>\n",
       "    </tr>\n",
       "    <tr>\n",
       "      <th>9</th>\n",
       "      <td>Perempuan</td>\n",
       "      <td>20</td>\n",
       "      <td>10000000</td>\n",
       "      <td>Single</td>\n",
       "      <td>0</td>\n",
       "    </tr>\n",
       "  </tbody>\n",
       "</table>\n",
       "</div>"
      ],
      "text/plain": [
       "  Jenis Kelamin  Umur Karyawan      Gaji   Status  Transportasi\n",
       "0     Laki-Laki             20   8000000   Single             0\n",
       "1     Laki-Laki             35  14000000   Single             1\n",
       "2     Perempuan             26  10000000   Single             1\n",
       "3     Perempuan             27  12000000  Menikah             0\n",
       "4     Laki-Laki             21   9000000   Single             0\n",
       "5     Laki-Laki             22  11000000   Single             0\n",
       "6     Perempuan             32  15000000  Menikah             1\n",
       "7     Perempuan             26   8000000  Menikah             1\n",
       "8     Laki-Laki             25   9000000   Single             1\n",
       "9     Perempuan             20  10000000   Single             0"
      ]
     },
     "execution_count": 26,
     "metadata": {},
     "output_type": "execute_result"
    }
   ],
   "source": [
    "ecdr = LabelEncoder()\n",
    "data['Transportasi'] = ecdr.fit_transform(data['Transportasi'])\n",
    "data"
   ]
  },
  {
   "cell_type": "code",
   "execution_count": 27,
   "metadata": {},
   "outputs": [],
   "source": [
    "x = data.drop(columns='Transportasi')\n",
    "y = data.Transportasi\n",
    "x_train, x_test, y_train, y_test = train_test_split(x, y, test_size=0.2, random_state=42)"
   ]
  },
  {
   "cell_type": "code",
   "execution_count": 28,
   "metadata": {},
   "outputs": [],
   "source": [
    "preprocessor = ColumnTransformer([\n",
    "    ('numeric', num_pipe(), ['Umur Karyawan','Gaji']),\n",
    "    ('categoric', cat_pipe(encoder='onehot'), ['Jenis Kelamin', 'Status'])\n",
    "])"
   ]
  },
  {
   "cell_type": "code",
   "execution_count": 29,
   "metadata": {},
   "outputs": [],
   "source": [
    "from sklearn.naive_bayes import GaussianNB\n",
    "\n",
    "pipeline = Pipeline([\n",
    "    ('prep', preprocessor),\n",
    "    ('algo', GaussianNB())\n",
    "])"
   ]
  },
  {
   "cell_type": "code",
   "execution_count": 30,
   "metadata": {},
   "outputs": [
    {
     "data": {
      "text/plain": [
       "Pipeline(steps=[('prep',\n",
       "                 ColumnTransformer(transformers=[('numeric',\n",
       "                                                  Pipeline(steps=[('imputer',\n",
       "                                                                   SimpleImputer(strategy='median'))]),\n",
       "                                                  ['Umur Karyawan', 'Gaji']),\n",
       "                                                 ('categoric',\n",
       "                                                  Pipeline(steps=[('imputer',\n",
       "                                                                   SimpleImputer(strategy='most_frequent')),\n",
       "                                                                  ('onehot',\n",
       "                                                                   OneHotEncoder(handle_unknown='ignore'))]),\n",
       "                                                  ['Jenis Kelamin',\n",
       "                                                   'Status'])])),\n",
       "                ('algo', GaussianNB())])"
      ]
     },
     "execution_count": 30,
     "metadata": {},
     "output_type": "execute_result"
    }
   ],
   "source": [
    "pipeline.fit(x_train, y_train)"
   ]
  },
  {
   "cell_type": "code",
   "execution_count": 31,
   "metadata": {},
   "outputs": [
    {
     "data": {
      "image/png": "[encoded data removed]",
      "text/plain": [
       "<Figure size 1100x500 with 2 Axes>"
      ]
     },
     "metadata": {},
     "output_type": "display_data"
    }
   ],
   "source": [
    "from jcopml.plot import plot_confusion_matrix\n",
    "\n",
    "plot_confusion_matrix(x_train, y_train, x_test, y_test, pipeline)"
   ]
  },
  {
   "attachments": {},
   "cell_type": "markdown",
   "metadata": {},
   "source": [
    "# Prediksi"
   ]
  },
  {
   "cell_type": "code",
   "execution_count": 32,
   "metadata": {},
   "outputs": [
    {
     "data": {
      "text/html": [
       "<div>\n",
       "<style scoped>\n",
       "    .dataframe tbody tr th:only-of-type {\n",
       "        vertical-align: middle;\n",
       "    }\n",
       "\n",
       "    .dataframe tbody tr th {\n",
       "        vertical-align: top;\n",
       "    }\n",
       "\n",
       "    .dataframe thead th {\n",
       "        text-align: right;\n",
       "    }\n",
       "</style>\n",
       "<table border=\"1\" class=\"dataframe\">\n",
       "  <thead>\n",
       "    <tr style=\"text-align: right;\">\n",
       "      <th></th>\n",
       "      <th>Jenis Kelamin</th>\n",
       "      <th>Umur Karyawan</th>\n",
       "      <th>Gaji</th>\n",
       "      <th>Status</th>\n",
       "    </tr>\n",
       "  </thead>\n",
       "  <tbody>\n",
       "    <tr>\n",
       "      <th>0</th>\n",
       "      <td>Perempuan</td>\n",
       "      <td>27</td>\n",
       "      <td>12000000</td>\n",
       "      <td>Single</td>\n",
       "    </tr>\n",
       "    <tr>\n",
       "      <th>1</th>\n",
       "      <td>Laki-Laki</td>\n",
       "      <td>35</td>\n",
       "      <td>14000000</td>\n",
       "      <td>Menikah</td>\n",
       "    </tr>\n",
       "  </tbody>\n",
       "</table>\n",
       "</div>"
      ],
      "text/plain": [
       "  Jenis Kelamin  Umur Karyawan      Gaji   Status\n",
       "0     Perempuan             27  12000000   Single\n",
       "1     Laki-Laki             35  14000000  Menikah"
      ]
     },
     "execution_count": 32,
     "metadata": {},
     "output_type": "execute_result"
    }
   ],
   "source": [
    "x_prediction = pd.read_csv(\"test.csv\")\n",
    "x_prediction"
   ]
  },
  {
   "cell_type": "code",
   "execution_count": 33,
   "metadata": {},
   "outputs": [
    {
     "data": {
      "text/plain": [
       "array([0, 1])"
      ]
     },
     "execution_count": 33,
     "metadata": {},
     "output_type": "execute_result"
    }
   ],
   "source": [
    "pipeline.predict(x_prediction)"
   ]
  },
  {
   "cell_type": "code",
   "execution_count": 34,
   "metadata": {},
   "outputs": [
    {
     "data": {
      "text/html": [
       "<div>\n",
       "<style scoped>\n",
       "    .dataframe tbody tr th:only-of-type {\n",
       "        vertical-align: middle;\n",
       "    }\n",
       "\n",
       "    .dataframe tbody tr th {\n",
       "        vertical-align: top;\n",
       "    }\n",
       "\n",
       "    .dataframe thead th {\n",
       "        text-align: right;\n",
       "    }\n",
       "</style>\n",
       "<table border=\"1\" class=\"dataframe\">\n",
       "  <thead>\n",
       "    <tr style=\"text-align: right;\">\n",
       "      <th></th>\n",
       "      <th>Jenis Kelamin</th>\n",
       "      <th>Umur Karyawan</th>\n",
       "      <th>Gaji</th>\n",
       "      <th>Status</th>\n",
       "      <th>Transportasi</th>\n",
       "    </tr>\n",
       "  </thead>\n",
       "  <tbody>\n",
       "    <tr>\n",
       "      <th>0</th>\n",
       "      <td>Perempuan</td>\n",
       "      <td>27</td>\n",
       "      <td>12000000</td>\n",
       "      <td>Single</td>\n",
       "      <td>Kendaraan pribadi</td>\n",
       "    </tr>\n",
       "    <tr>\n",
       "      <th>1</th>\n",
       "      <td>Laki-Laki</td>\n",
       "      <td>35</td>\n",
       "      <td>14000000</td>\n",
       "      <td>Menikah</td>\n",
       "      <td>Kendaraan umum</td>\n",
       "    </tr>\n",
       "  </tbody>\n",
       "</table>\n",
       "</div>"
      ],
      "text/plain": [
       "  Jenis Kelamin  Umur Karyawan      Gaji   Status       Transportasi\n",
       "0     Perempuan             27  12000000   Single  Kendaraan pribadi\n",
       "1     Laki-Laki             35  14000000  Menikah     Kendaraan umum"
      ]
     },
     "execution_count": 34,
     "metadata": {},
     "output_type": "execute_result"
    }
   ],
   "source": [
    "data_transportasi = []\n",
    "\n",
    "for transportasi in pipeline.predict(x_prediction):\n",
    "    if transportasi == 0:\n",
    "        transportasi = 'Kendaraan pribadi'\n",
    "    elif transportasi == 1:\n",
    "        transportasi = 'Kendaraan umum'\n",
    "    \n",
    "    data_transportasi.append(transportasi)\n",
    "\n",
    "x_prediction['Transportasi'] = data_transportasi\n",
    "x_prediction"
   ]
  }
 ],
 "metadata": {
  "kernelspec": {
   "display_name": "bol_datascience_course",
   "language": "python",
   "name": "bol_datascience_course"
  },
  "language_info": {
   "codemirror_mode": {
    "name": "ipython",
    "version": 3
   },
   "file_extension": ".py",
   "mimetype": "text/x-python",
   "name": "python",
   "nbconvert_exporter": "python",
   "pygments_lexer": "ipython3",
   "version": "3.9.13"
  },
  "orig_nbformat": 4
 },
 "nbformat": 4,
 "nbformat_minor": 2
}
